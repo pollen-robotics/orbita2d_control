{
 "cells": [
  {
   "cell_type": "markdown",
   "id": "4368b857",
   "metadata": {},
   "source": [
    "# Orbita2d Python API example\n",
    "\n",
    "## Usage\n",
    "\n",
    "Assuming you have already built the bindings in your virtual environment, you can directly import the `orbita2d` module.\n",
    "\n",
    "If it's not already done, you can first run ```maturin develop``` from the orbita2d_c_api folder."
   ]
  },
  {
   "cell_type": "code",
   "execution_count": 1,
   "id": "4e681323",
   "metadata": {},
   "outputs": [],
   "source": [
    "import orbita2d"
   ]
  },
  {
   "cell_type": "markdown",
   "id": "c7163447",
   "metadata": {},
   "source": [
    "Or to directly import a controller:"
   ]
  },
  {
   "cell_type": "code",
   "execution_count": 2,
   "id": "a8671ee9",
   "metadata": {},
   "outputs": [],
   "source": [
    "from orbita2d import Orbita2dController"
   ]
  },
  {
   "cell_type": "markdown",
   "id": "8ac0651e",
   "metadata": {},
   "source": [
    "You can then connect to the actuator using the `from_config` method:"
   ]
  },
  {
   "cell_type": "markdown",
   "id": "910dcb1c",
   "metadata": {},
   "source": [
    "Configuration examples can be found here: [orbita2d_controller/config](https://github.com/pollen-robotics/orbita2d_control/tree/develop/orbita2d_controller/config)"
   ]
  },
  {
   "cell_type": "code",
   "execution_count": 3,
   "id": "ee82cf70",
   "metadata": {},
   "outputs": [],
   "source": [
    "configfile = \"/home/steve/Project/Repo/Pollen/orbita2d_control/orbita2d_controller/config/right_elbow_flipsky_2.yaml\"\n",
    "\n",
    "orbita2d_controller = Orbita2dController.from_config(configfile)"
   ]
  },
  {
   "cell_type": "markdown",
   "id": "3bc73196",
   "metadata": {},
   "source": [
    "## Control your Orbita2d\n",
    "\n",
    "### Enable/disable torque\n",
    "\n",
    "To enable or disable the torque you can use the following methods:"
   ]
  },
  {
   "cell_type": "markdown",
   "id": "eb2794b8",
   "metadata": {},
   "source": [
    "To enable the torque (note the _reset_target_ parameter that is used to reset the target position to the current position and make sure your actuator won't go to a previously set target position):"
   ]
  },
  {
   "cell_type": "code",
   "execution_count": 4,
   "id": "985e956b",
   "metadata": {},
   "outputs": [],
   "source": [
    "orbita2d_controller.enable_torque(reset_target=True)"
   ]
  },
  {
   "cell_type": "markdown",
   "id": "15a82918",
   "metadata": {},
   "source": [
    "And to disable it:"
   ]
  },
  {
   "cell_type": "code",
   "execution_count": 5,
   "id": "3bf11ad1",
   "metadata": {},
   "outputs": [],
   "source": [
    "orbita2d_controller.disable_torque()"
   ]
  },
  {
   "cell_type": "markdown",
   "id": "e4265cd6",
   "metadata": {},
   "source": [
    "You can also check if the torque is enabled:"
   ]
  },
  {
   "cell_type": "code",
   "execution_count": null,
   "id": "a55fadd5",
   "metadata": {},
   "outputs": [],
   "source": [
    "orbita2d_controller.is_torque_on()"
   ]
  },
  {
   "cell_type": "markdown",
   "id": "1b796320",
   "metadata": {},
   "source": [
    "## Read and set positions\n",
    "\n",
    "To read the current position of the actuator, you can use the `get_current_orientation` method:"
   ]
  },
  {
   "cell_type": "code",
   "execution_count": null,
   "id": "b9d53881",
   "metadata": {},
   "outputs": [],
   "source": [
    "ring, center = orbita2d_controller.get_current_orientation()\n",
    "print(f'Orbita current orientation: ring={ring}rads, center={center}rads')"
   ]
  },
  {
   "cell_type": "markdown",
   "id": "69c2c8f9",
   "metadata": {},
   "source": [
    "And to set a target position, you can use the `set_target_orientation` method (make sure to enable the torque first and that the actuator can freely move to the target position):"
   ]
  },
  {
   "cell_type": "code",
   "execution_count": null,
   "id": "28da30ce",
   "metadata": {},
   "outputs": [],
   "source": [
    "import time\n",
    "\n",
    "orbita2d_controller.enable_torque(reset_target=True)\n",
    "\n",
    "orbita2d_controller.set_target_orientation(target=(0.0, 0.0))\n",
    "time.sleep(1)\n",
    "orbita2d_controller.set_target_orientation(target=(0.0, 0.5))\n",
    "time.sleep(1)\n",
    "orbita2d_controller.set_target_orientation(target=(0.5, 0.5))\n",
    "time.sleep(1)\n",
    "orbita2d_controller.set_target_orientation(target=(0.5, 0.0))\n",
    "time.sleep(1)\n",
    "orbita2d_controller.set_target_orientation(target=(0.0, 0.0))"
   ]
  },
  {
   "cell_type": "markdown",
   "id": "7335420a",
   "metadata": {},
   "source": [
    "You can also play a more complex trajectory and records the real reached positions. Let's play a sinusoid trajectory on the center axis:"
   ]
  },
  {
   "cell_type": "code",
   "execution_count": null,
   "id": "9d2be66b",
   "metadata": {},
   "outputs": [],
   "source": [
    "import numpy as np\n",
    "import time\n",
    "\n",
    "duration = 10\n",
    "amp = np.deg2rad(20)\n",
    "freq = 0.5\n",
    "\n",
    "recorded_pos = []\n",
    "\n",
    "t0 = time.time()\n",
    "while time.time() - t0 < duration:\n",
    "    center_target = amp * np.sin(2 * np.pi * freq * (time.time() - t0))\n",
    "\n",
    "    # Set the target orientation    \n",
    "    orbita2d_controller.set_target_orientation(target=(0.0, center_target))\n",
    "\n",
    "    # Record the current orientation\n",
    "    recorded_pos.append(orbita2d_controller.get_current_orientation())\n",
    "\n",
    "    time.sleep(0.001)"
   ]
  },
  {
   "cell_type": "markdown",
   "id": "9ad102d6",
   "metadata": {},
   "source": [
    "Using matplotlib, we can plot the real reached positions:"
   ]
  },
  {
   "cell_type": "code",
   "execution_count": null,
   "id": "defba5a0",
   "metadata": {},
   "outputs": [],
   "source": [
    "import matplotlib.pyplot as plt\n",
    "\n",
    "plt.figure()\n",
    "plt.plot(recorded_pos)"
   ]
  },
  {
   "cell_type": "markdown",
   "id": "a0c62aa4",
   "metadata": {},
   "source": [
    "Similarly, you can read the current velocity of the actuator using the `get_current_velocity` method. \n",
    "\n",
    "You can also read the current torque using the `get_current_torque` method."
   ]
  },
  {
   "cell_type": "markdown",
   "id": "9b1b887b",
   "metadata": {},
   "source": [
    "## Extra parameters\n",
    "\n",
    "You can also access (get/set) the following parameters:\n",
    "* velocity_limit: `get_raw_motors_velocity_limit`, `set_raw_motors_velocity_limit`\n",
    "* torque_limit: `get_raw_motors_torque_limit`, `set_raw_motors_torque_limit`\n",
    "* pid_gains: `get_raw_motors_pid_gains`, `set_raw_motors_pid_gains`\n",
    "\n",
    "\n",
    "**Be careful when setting these parameters, as they control directly the motors used within Orbita2d not the actuator itself!**"
   ]
  },
  {
   "cell_type": "markdown",
   "id": "9983b227",
   "metadata": {},
   "source": [
    "## Kinematics\n",
    "\n",
    "The Python API also provides access to the kinematics of the actuator. You can compute forward/inverse kinematics of position/velocity/torque. All angles are given in radians."
   ]
  },
  {
   "cell_type": "markdown",
   "id": "9ce8f721",
   "metadata": {},
   "source": [
    "First, creates your kinematics model based on the motor ratios of your actuator. If you are not sure, they can be found in the configuration file you are using."
   ]
  },
  {
   "cell_type": "code",
   "execution_count": 1,
   "id": "910612c1",
   "metadata": {},
   "outputs": [],
   "source": [
    "from orbita2d import KinematicsModel\n",
    "\n",
    "kinematics = KinematicsModel(ratio_a=47.519, ratio_b=47.519)"
   ]
  },
  {
   "cell_type": "markdown",
   "id": "8befa024",
   "metadata": {},
   "source": [
    "For the position:"
   ]
  },
  {
   "cell_type": "code",
   "execution_count": 6,
   "id": "9de78a0a",
   "metadata": {},
   "outputs": [
    {
     "data": {
      "text/plain": [
       "(0.10522106946695006, -0.10522106946695006)"
      ]
     },
     "execution_count": 6,
     "metadata": {},
     "output_type": "execute_result"
    }
   ],
   "source": [
    "ring, center = kinematics.forward_position(angle_a=0.0, angle_b=10.0)\n",
    "(ring, center)"
   ]
  },
  {
   "cell_type": "code",
   "execution_count": 7,
   "id": "a8251452",
   "metadata": {},
   "outputs": [
    {
     "data": {
      "text/plain": [
       "(0.0, 10.0)"
      ]
     },
     "execution_count": 7,
     "metadata": {},
     "output_type": "execute_result"
    }
   ],
   "source": [
    "kinematics.inverse_position(ring, center)"
   ]
  }
 ],
 "metadata": {
  "kernelspec": {
   "display_name": "Python 3 (ipykernel)",
   "language": "python",
   "name": "python3"
  },
  "language_info": {
   "codemirror_mode": {
    "name": "ipython",
    "version": 3
   },
   "file_extension": ".py",
   "mimetype": "text/x-python",
   "name": "python",
   "nbconvert_exporter": "python",
   "pygments_lexer": "ipython3",
   "version": "3.10.12"
  }
 },
 "nbformat": 4,
 "nbformat_minor": 5
}
