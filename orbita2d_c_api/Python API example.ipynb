{
 "cells": [
  {
   "cell_type": "code",
   "execution_count": 1,
   "id": "4e681323",
   "metadata": {},
   "outputs": [],
   "source": [
    "import orbita2d_c_api"
   ]
  },
  {
   "cell_type": "code",
   "execution_count": 13,
   "id": "255510e7",
   "metadata": {},
   "outputs": [
    {
     "data": {
      "text/plain": [
       "(0.5, 0.0)"
      ]
     },
     "execution_count": 13,
     "metadata": {},
     "output_type": "execute_result"
    }
   ],
   "source": [
    "roll = orbita2d_c_api.ffi.new(\"double *\")\n",
    "pitch = orbita2d_c_api.ffi.new(\"double *\")\n",
    "\n",
    "orbita2d_c_api.lib.forward_position(1, 1, 0.5, 0.5, roll, pitch)\n",
    "\n",
    "roll[0], pitch[0]"
   ]
  },
  {
   "cell_type": "code",
   "execution_count": null,
   "id": "621293cd",
   "metadata": {},
   "outputs": [],
   "source": []
  }
 ],
 "metadata": {
  "kernelspec": {
   "display_name": "Python 3 (ipykernel)",
   "language": "python",
   "name": "python3"
  },
  "language_info": {
   "codemirror_mode": {
    "name": "ipython",
    "version": 3
   },
   "file_extension": ".py",
   "mimetype": "text/x-python",
   "name": "python",
   "nbconvert_exporter": "python",
   "pygments_lexer": "ipython3",
   "version": "3.10.12"
  }
 },
 "nbformat": 4,
 "nbformat_minor": 5
}
