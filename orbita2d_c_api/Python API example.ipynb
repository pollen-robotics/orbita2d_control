{
 "cells": [
  {
   "cell_type": "code",
   "execution_count": 1,
   "id": "93ecefe0",
   "metadata": {},
   "outputs": [
    {
     "name": "stdout",
     "output_type": "stream",
     "text": [
      "🔗 Found cffi bindings\n",
      "🐍 Using CPython 3.10 at /Users/pierrerouanet/.virtualenvs/reachy-sdk/bin/python to generate the cffi bindings\n",
      "Requirement already satisfied: cffi in /Users/pierrerouanet/.virtualenvs/reachy-sdk/lib/python3.10/site-packages (1.15.1)\n",
      "Requirement already satisfied: pycparser in /Users/pierrerouanet/.virtualenvs/reachy-sdk/lib/python3.10/site-packages (from cffi) (2.21)\n",
      "💻 Using `MACOSX_DEPLOYMENT_TARGET=10.7` for x86_64-apple-darwin by default\n",
      "\u001b[0m\u001b[0m\u001b[1m\u001b[32m    Finished\u001b[0m dev [unoptimized + debuginfo] target(s) in 0.10s\n",
      "📦 Built wheel to /var/folders/tg/h2vbdk796k3887rtlkqfpbk80000gn/T/.tmpYUL7ic/orbita2d-0.1.0-py3-none-macosx_10_7_x86_64.whl\n",
      "🛠 Installed orbita2d-0.1.0\n"
     ]
    }
   ],
   "source": [
    "!maturin develop"
   ]
  },
  {
   "cell_type": "code",
   "execution_count": 1,
   "id": "4e681323",
   "metadata": {},
   "outputs": [],
   "source": [
    "import orbita2d"
   ]
  },
  {
   "cell_type": "code",
   "execution_count": 2,
   "id": "621293cd",
   "metadata": {},
   "outputs": [],
   "source": [
    "model = orbita2d.KinematicsModel(1.0, 1.0)"
   ]
  },
  {
   "cell_type": "code",
   "execution_count": 3,
   "id": "f297f20c",
   "metadata": {},
   "outputs": [
    {
     "data": {
      "text/plain": [
       "(0.625, -0.125)"
      ]
     },
     "execution_count": 3,
     "metadata": {},
     "output_type": "execute_result"
    }
   ],
   "source": [
    "model.forward_position(0.5, 0.75)"
   ]
  },
  {
   "cell_type": "code",
   "execution_count": null,
   "id": "95433081",
   "metadata": {},
   "outputs": [],
   "source": []
  }
 ],
 "metadata": {
  "kernelspec": {
   "display_name": "Python 3 (ipykernel)",
   "language": "python",
   "name": "python3"
  },
  "language_info": {
   "codemirror_mode": {
    "name": "ipython",
    "version": 3
   },
   "file_extension": ".py",
   "mimetype": "text/x-python",
   "name": "python",
   "nbconvert_exporter": "python",
   "pygments_lexer": "ipython3",
   "version": "3.10.12"
  }
 },
 "nbformat": 4,
 "nbformat_minor": 5
}
