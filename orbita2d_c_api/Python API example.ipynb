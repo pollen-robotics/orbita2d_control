{
 "cells": [
  {
   "cell_type": "code",
   "execution_count": 1,
   "id": "93ecefe0",
   "metadata": {},
   "outputs": [
    {
     "name": "stdout",
     "output_type": "stream",
     "text": [
      "🍹 Building a mixed python/rust project\n",
      "🔗 Found cffi bindings\n",
      "🐍 Using CPython 3.10 at /Users/pierrerouanet/.virtualenvs/reachy-sdk/bin/python to generate the cffi bindings\n",
      "Requirement already satisfied: cffi in /Users/pierrerouanet/.virtualenvs/reachy-sdk/lib/python3.10/site-packages (1.15.1)\n",
      "Requirement already satisfied: pycparser in /Users/pierrerouanet/.virtualenvs/reachy-sdk/lib/python3.10/site-packages (from cffi) (2.21)\n",
      "💻 Using `MACOSX_DEPLOYMENT_TARGET=10.7` for x86_64-apple-darwin by default\n",
      "\u001b[0m\u001b[0m\u001b[1m\u001b[32m   Compiling\u001b[0m orbita2d_c_api v0.1.0 (/Users/pierrerouanet/Dev/orbita2d_control/orbita2d_c_api)\n",
      "\u001b[K\u001b[0m\u001b[0m\u001b[1m\u001b[32m    Finished\u001b[0m dev [unoptimized + debuginfo] target(s) in 0.71sapi              \n",
      "📦 Built wheel to /var/folders/tg/h2vbdk796k3887rtlkqfpbk80000gn/T/.tmpq7Vu32/orbita2d-0.1.0-py3-none-macosx_10_7_x86_64.whl\n",
      "🛠 Installed orbita2d-0.1.0\n"
     ]
    }
   ],
   "source": [
    "!maturin develop"
   ]
  },
  {
   "cell_type": "code",
   "execution_count": 2,
   "id": "4e681323",
   "metadata": {},
   "outputs": [],
   "source": [
    "import orbita2d"
   ]
  },
  {
   "cell_type": "code",
   "execution_count": 3,
   "id": "d138ad50",
   "metadata": {},
   "outputs": [
    {
     "data": {
      "text/plain": [
       "(0.25, -0.25)"
      ]
     },
     "execution_count": 3,
     "metadata": {},
     "output_type": "execute_result"
    }
   ],
   "source": [
    "kin = orbita2d.KinematicsModel(1, 1)\n",
    "\n",
    "kin.forward_position(0, 0.5)"
   ]
  },
  {
   "cell_type": "code",
   "execution_count": 4,
   "id": "46e9b0a7",
   "metadata": {},
   "outputs": [],
   "source": [
    "config = \"/Users/pierrerouanet/Dev/orbita2d_control/orbita2d_controller/config/fake.yaml\"\n",
    "\n",
    "co = orbita2d.Orbita2dController.from_config(config)"
   ]
  },
  {
   "cell_type": "code",
   "execution_count": 5,
   "id": "94b934d9",
   "metadata": {},
   "outputs": [],
   "source": [
    "assert co.is_torque_on() == False\n",
    "co.enable_torque(False)\n",
    "assert co.is_torque_on() == True\n",
    "co.disable_torque()\n",
    "assert co.is_torque_on() == False"
   ]
  },
  {
   "cell_type": "code",
   "execution_count": 6,
   "id": "3bf11ad1",
   "metadata": {},
   "outputs": [],
   "source": [
    "co.enable_torque(False)"
   ]
  },
  {
   "cell_type": "code",
   "execution_count": 7,
   "id": "d7b3a474",
   "metadata": {},
   "outputs": [
    {
     "data": {
      "text/plain": [
       "(0.0, 0.0)"
      ]
     },
     "execution_count": 7,
     "metadata": {},
     "output_type": "execute_result"
    }
   ],
   "source": [
    "angle = co.get_current_orientation()\n",
    "angle"
   ]
  },
  {
   "cell_type": "code",
   "execution_count": 11,
   "id": "8db350a8",
   "metadata": {},
   "outputs": [],
   "source": [
    "co.set_target_orientation((0.5, 0.5))\n",
    "assert co.get_target_orientation() == (0.5, 0.5)\n",
    "assert co.get_current_orientation() == (0.5, 0.5)"
   ]
  },
  {
   "cell_type": "code",
   "execution_count": null,
   "id": "706f33ff",
   "metadata": {},
   "outputs": [],
   "source": []
  }
 ],
 "metadata": {
  "kernelspec": {
   "display_name": "Python 3 (ipykernel)",
   "language": "python",
   "name": "python3"
  },
  "language_info": {
   "codemirror_mode": {
    "name": "ipython",
    "version": 3
   },
   "file_extension": ".py",
   "mimetype": "text/x-python",
   "name": "python",
   "nbconvert_exporter": "python",
   "pygments_lexer": "ipython3",
   "version": "3.10.12"
  }
 },
 "nbformat": 4,
 "nbformat_minor": 5
}
