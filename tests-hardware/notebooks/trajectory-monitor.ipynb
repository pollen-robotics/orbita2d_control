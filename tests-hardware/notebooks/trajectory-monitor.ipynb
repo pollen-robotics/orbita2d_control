{
 "cells": [
  {
   "cell_type": "markdown",
   "id": "77ae1069",
   "metadata": {},
   "source": [
    "First, let's import the necessary modules, and select the orbita2d config you want to use."
   ]
  },
  {
   "cell_type": "code",
   "execution_count": null,
   "id": "ff7eb502",
   "metadata": {},
   "outputs": [],
   "source": [
    "from matplotlib import pyplot as plt\n",
    "import numpy as np\n",
    "import tempfile\n",
    "\n",
    "orbita_config = '/Users/pierrerouanet/Dev/orbita2d_control/orbita2d_controller/config/workbench.yaml'"
   ]
  },
  {
   "cell_type": "markdown",
   "id": "37eac34f",
   "metadata": {},
   "source": [
    "Then, define your roll/pitch trajectory.\n",
    "Timestep is in ms, and the trajectory is in radians."
   ]
  },
  {
   "cell_type": "code",
   "execution_count": null,
   "id": "70e6905d",
   "metadata": {},
   "outputs": [],
   "source": [
    "# Sinusoid on pitch\n",
    "t = np.linspace(0, 10, 1000)\n",
    "roll = np.zeros(t.shape)\n",
    "pitch = np.deg2rad(30) * np.sin(2 * np.pi * 0.5 * t)\n",
    "\n",
    "# Square\n",
    "t = np.linspace(0, 10, 2000)\n",
    "roll = np.zeros(t.shape)\n",
    "pitch = np.zeros(t.shape)\n",
    "pitch[250:750] = np.deg2rad(30)\n",
    "pitch[1250:1750] = np.deg2rad(-30)"
   ]
  },
  {
   "cell_type": "code",
   "execution_count": null,
   "id": "60197703",
   "metadata": {},
   "outputs": [],
   "source": [
    "plt.plot(roll, label='roll')\n",
    "plt.plot(pitch, label='pitch')\n",
    "plt.title('Target trajectory')\n",
    "plt.legend()"
   ]
  },
  {
   "cell_type": "markdown",
   "id": "e436778e",
   "metadata": {},
   "source": [
    "Let's save the trajectory to a file, so we can use it later.\n",
    "We also use an output file to store the real trajectory's state at each timestep."
   ]
  },
  {
   "cell_type": "code",
   "execution_count": null,
   "id": "de50d046",
   "metadata": {},
   "outputs": [],
   "source": [
    "pos = np.vstack((roll, pitch)).T\n",
    "input_tmp_file = tempfile.NamedTemporaryFile(delete=False, suffix='.npy')\n",
    "np.save(input_tmp_file.name, pos)\n",
    "\n",
    "output_tmp_file = tempfile.NamedTemporaryFile(delete=False, suffix='.npz')"
   ]
  },
  {
   "cell_type": "markdown",
   "id": "f6805277",
   "metadata": {},
   "source": [
    "Now let's run the trajectory player. \n",
    "\n",
    "This will play the trajectory, and send the commands to the orbita2d hardware.\n",
    "\n",
    "It will also save the real trajectory's state (position/velocity/torque) at each timestep (1ms) to the output file.\n",
    "We also choose to use a raw velocity limit."
   ]
  },
  {
   "cell_type": "code",
   "execution_count": null,
   "id": "940544f9",
   "metadata": {},
   "outputs": [],
   "source": [
    "!cargo run --package orbita2d_controller --bin orbita2d_trajectory_player -- \\\n",
    "    -c \"{orbita_config}\" \\\n",
    "    -i \"{input_tmp_file.name}\" -o \"{output_tmp_file.name}\" \\\n",
    "    --raw-velocity-limit 25.0"
   ]
  },
  {
   "cell_type": "markdown",
   "id": "bc6948ac",
   "metadata": {},
   "source": [
    "Let's load the result and plot the recorded position trajectory."
   ]
  },
  {
   "cell_type": "code",
   "execution_count": null,
   "id": "5e971445",
   "metadata": {},
   "outputs": [],
   "source": [
    "result = np.load(output_tmp_file.name)\n",
    "\n",
    "plt.plot(result['position'][:, 0], label='roll')\n",
    "plt.plot(result['position'][:, 1], label='pitch')\n",
    "plt.title('Position')\n",
    "plt.legend()"
   ]
  },
  {
   "cell_type": "markdown",
   "id": "a913e37b",
   "metadata": {},
   "source": [
    "We can also plot the error (difference between the desired and real trajectory)."
   ]
  },
  {
   "cell_type": "code",
   "execution_count": null,
   "id": "a3a28ded",
   "metadata": {},
   "outputs": [],
   "source": [
    "position_error = result['position'] - np.roll(pos, 0, axis=0)\n",
    "\n",
    "plt.plot(position_error[:, 0], label='roll')\n",
    "plt.plot(position_error[:, 1], label='pitch')\n",
    "plt.title('Position error')"
   ]
  },
  {
   "cell_type": "markdown",
   "id": "dce4d1cd",
   "metadata": {},
   "source": [
    "Similarly, but with an offset in the trajectory."
   ]
  },
  {
   "cell_type": "code",
   "execution_count": null,
   "id": "f092aa30",
   "metadata": {},
   "outputs": [],
   "source": [
    "best_shift, best_error = 0, np.inf\n",
    "for shift in range(1, 100):\n",
    "    position_error = result['position'] - np.roll(pos, shift, axis=0)\n",
    "    error = np.linalg.norm(position_error)\n",
    "    if error < best_error:\n",
    "        best_error = error\n",
    "        best_shift = shift\n",
    "\n",
    "\n",
    "position_error = result['position'] - np.roll(pos, best_shift, axis=0)\n",
    "\n",
    "plt.plot(position_error[:, 0], label='roll')\n",
    "plt.plot(position_error[:, 1], label='pitch')\n",
    "plt.title(f'Position error (shift = {best_shift})')"
   ]
  },
  {
   "cell_type": "markdown",
   "id": "970b0845",
   "metadata": {},
   "source": [
    "Now the velocity."
   ]
  },
  {
   "cell_type": "code",
   "execution_count": null,
   "id": "0aa6e31b",
   "metadata": {},
   "outputs": [],
   "source": [
    "plt.plot(result['velocity'][:, 0], label='roll')\n",
    "plt.plot(result['velocity'][:, 1], label='pitch')\n",
    "plt.title('Velocity')\n",
    "plt.legend()"
   ]
  },
  {
   "cell_type": "markdown",
   "id": "8ae76615",
   "metadata": {},
   "source": [
    "And the torque"
   ]
  },
  {
   "cell_type": "code",
   "execution_count": null,
   "id": "ec871b84",
   "metadata": {},
   "outputs": [],
   "source": [
    "plt.plot(result['torque'][:, 0], label='roll')\n",
    "plt.plot(result['torque'][:, 1], label='pitch')\n",
    "plt.title('Torque')\n",
    "plt.legend()"
   ]
  },
  {
   "cell_type": "code",
   "execution_count": null,
   "id": "a748a3ca",
   "metadata": {},
   "outputs": [],
   "source": []
  }
 ],
 "metadata": {
  "kernelspec": {
   "display_name": "Python 3 (ipykernel)",
   "language": "python",
   "name": "python3"
  },
  "language_info": {
   "codemirror_mode": {
    "name": "ipython",
    "version": 3
   },
   "file_extension": ".py",
   "mimetype": "text/x-python",
   "name": "python",
   "nbconvert_exporter": "python",
   "pygments_lexer": "ipython3",
   "version": "3.10.12"
  }
 },
 "nbformat": 4,
 "nbformat_minor": 5
}
